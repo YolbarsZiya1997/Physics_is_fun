{
 "cells": [
  {
   "cell_type": "code",
   "execution_count": 3,
   "metadata": {},
   "outputs": [
    {
     "name": "stdout",
     "output_type": "stream",
     "text": [
      "True is true\n"
     ]
    }
   ],
   "source": [
    "# if-else\n",
    "\n",
    "if True:\n",
    "    print('True is true')\n",
    "    \n",
    "if False:\n",
    "    print(\"It ain't true\")"
   ]
  },
  {
   "cell_type": "code",
   "execution_count": 4,
   "metadata": {},
   "outputs": [
    {
     "name": "stdout",
     "output_type": "stream",
     "text": [
      "hello\n"
     ]
    }
   ],
   "source": [
    "if 4==4: \n",
    "    print('hello')"
   ]
  },
  {
   "cell_type": "code",
   "execution_count": 8,
   "metadata": {},
   "outputs": [
    {
     "name": "stdout",
     "output_type": "stream",
     "text": [
      "0.39783552683445456\n"
     ]
    }
   ],
   "source": [
    "import numpy as np\n",
    "\n",
    "randnum = np.random.randn()\n",
    "\n",
    "if randnum > 0:\n",
    "    print(randnum)"
   ]
  },
  {
   "cell_type": "code",
   "execution_count": 9,
   "metadata": {},
   "outputs": [
    {
     "name": "stdout",
     "output_type": "stream",
     "text": [
      "0.1754078039877734 is positive\n"
     ]
    }
   ],
   "source": [
    "r = np.random.randn()\n",
    "\n",
    "if r > 0:\n",
    "    print(str(r) + ' is positive')\n",
    "    \n",
    "else:\n",
    "    print(str(r) + 'is negative')"
   ]
  },
  {
   "cell_type": "code",
   "execution_count": 10,
   "metadata": {},
   "outputs": [
    {
     "name": "stdout",
     "output_type": "stream",
     "text": [
      "Not bad\n"
     ]
    }
   ],
   "source": [
    "caketype = input()\n",
    "\n",
    "if caketype == 'carrot':\n",
    "    print('Total yumminess!')\n",
    "    \n",
    "elif caketype == 'chocolate':\n",
    "    print('Not bad')\n",
    "    \n",
    "elif caketype == 'fruit':\n",
    "    print('Healthy?')\n",
    "    \n",
    "else:\n",
    "    print('cake type not detected')"
   ]
  },
  {
   "cell_type": "code",
   "execution_count": 13,
   "metadata": {},
   "outputs": [
    {
     "name": "stdout",
     "output_type": "stream",
     "text": [
      "Probably carrot cake\n",
      "Or not.\n"
     ]
    }
   ],
   "source": [
    "# one-line if statements\n",
    "\n",
    "caketype = 'Carrot'\n",
    "\n",
    "if caketype[0].lower() == 'c': print('Probably carrot cake')\n",
    "\n",
    "print('Probably carrot cake') if caketype[0]=='c' else print('Or not.')"
   ]
  },
  {
   "cell_type": "code",
   "execution_count": 14,
   "metadata": {},
   "outputs": [
    {
     "name": "stdout",
     "output_type": "stream",
     "text": [
      "both are true\n"
     ]
    }
   ],
   "source": [
    "if 1 < 3 and 4 == 4:\n",
    "    print('both are true')"
   ]
  },
  {
   "cell_type": "code",
   "execution_count": 53,
   "metadata": {},
   "outputs": [
    {
     "data": {
      "text/plain": [
       "206"
      ]
     },
     "execution_count": 53,
     "metadata": {},
     "output_type": "execute_result"
    }
   ],
   "source": [
    "# Exercise \n",
    "\n",
    "# create a dot product function\n",
    "# function checks that both inputs are numpy arrays (hint: isinstance())\n",
    "# function checks for same length of two input vectors\n",
    "# returns dot product if pass, useful error message otherwise\n",
    "\n",
    "def dut_product(a, b):\n",
    "    # check that both vectors are numpy arrays\n",
    "    if not (isinstance(a, np.ndarray) and isinstance(b, np.ndarray)):\n",
    "        raise Exception('Must be numpy array')\n",
    "        \n",
    "    # check that both vectors are of the same length\n",
    "    if not len(a) == len(b):\n",
    "        raise Exception(('Must be of the same length'))\n",
    "    \n",
    "    return sum(a*b)   \n",
    "    \n",
    "v = np.array([4, 10, 8])\n",
    "w = np.array([7, 9, 11])\n",
    "\n",
    "dut_product(v, w)"
   ]
  },
  {
   "cell_type": "code",
   "execution_count": 57,
   "metadata": {},
   "outputs": [
    {
     "name": "stdout",
     "output_type": "stream",
     "text": [
      "[ 4 10  4]\n"
     ]
    }
   ],
   "source": [
    "a = np.array([1, 2, 4])\n",
    "b = np.array([4, 5, 1])\n",
    "\n",
    "print(a*b)"
   ]
  },
  {
   "cell_type": "markdown",
   "metadata": {},
   "source": [
    "### For loops"
   ]
  },
  {
   "cell_type": "code",
   "execution_count": 63,
   "metadata": {},
   "outputs": [
    {
     "name": "stdout",
     "output_type": "stream",
     "text": [
      "0\n",
      "1\n",
      "2\n",
      "3\n",
      "4\n",
      "5\n",
      "5\n"
     ]
    }
   ],
   "source": [
    "for i in range(6):\n",
    "    print(i)\n",
    "print(i)"
   ]
  },
  {
   "cell_type": "code",
   "execution_count": 60,
   "metadata": {},
   "outputs": [
    {
     "name": "stdout",
     "output_type": "stream",
     "text": [
      "4 16\n",
      "5 25\n",
      "6 36\n",
      "7 49\n",
      "8 64\n",
      "9 81\n",
      "10 100\n"
     ]
    }
   ],
   "source": [
    "for j in range(4, 11):\n",
    "    print(j, j**2)"
   ]
  },
  {
   "cell_type": "code",
   "execution_count": 67,
   "metadata": {},
   "outputs": [
    {
     "name": "stdout",
     "output_type": "stream",
     "text": [
      "Iteration 0 has numbers value of 3.0\n",
      "Iteration 1 has numbers value of 3.6666666666666665\n",
      "Iteration 2 has numbers value of 4.333333333333333\n",
      "Iteration 3 has numbers value of 5.0\n",
      "Iteration 4 has numbers value of 5.666666666666666\n",
      "Iteration 5 has numbers value of 6.333333333333333\n",
      "Iteration 6 has numbers value of 7.0\n",
      "Iteration 7 has numbers value of 7.666666666666666\n",
      "Iteration 8 has numbers value of 8.333333333333332\n",
      "Iteration 9 has numbers value of 9.0\n",
      "Iteration 10 has numbers value of 9.666666666666666\n",
      "Iteration 11 has numbers value of 10.333333333333332\n",
      "Iteration 12 has numbers value of 11.0\n",
      "Iteration 13 has numbers value of 11.666666666666666\n",
      "Iteration 14 has numbers value of 12.333333333333332\n",
      "Iteration 15 has numbers value of 13.0\n",
      "Iteration 16 has numbers value of 13.666666666666666\n",
      "Iteration 17 has numbers value of 14.333333333333332\n",
      "Iteration 18 has numbers value of 15.0\n",
      "Iteration 19 has numbers value of 15.666666666666666\n",
      "Iteration 20 has numbers value of 16.333333333333332\n",
      "Iteration 21 has numbers value of 17.0\n"
     ]
    }
   ],
   "source": [
    "import numpy as np\n",
    "\n",
    "numbers = np.linspace(3, 17, 22)\n",
    "\n",
    "for i in range(len(numbers)):\n",
    "    x = numbers[i]\n",
    "    print('Iteration ' + str(i) + ' has numbers value of ' + str(x))"
   ]
  },
  {
   "cell_type": "code",
   "execution_count": 69,
   "metadata": {},
   "outputs": [],
   "source": [
    "# soft-coding vs hard-coding\n",
    "\n",
    "# hundreds of line of codes...\n",
    "\n",
    "for i in range(100): # hard coding\n",
    "    pass\n",
    "\n",
    "# soft one\n",
    "nIteration = 102\n",
    "\n",
    "for i in range(nIteration):\n",
    "    pass"
   ]
  },
  {
   "cell_type": "code",
   "execution_count": 72,
   "metadata": {},
   "outputs": [
    {
     "data": {
      "text/plain": [
       "3"
      ]
     },
     "execution_count": 72,
     "metadata": {},
     "output_type": "execute_result"
    }
   ],
   "source": [
    "# modulus (remainder after division)\n",
    "10%7"
   ]
  },
  {
   "cell_type": "code",
   "execution_count": 73,
   "metadata": {},
   "outputs": [
    {
     "name": "stdout",
     "output_type": "stream",
     "text": [
      "0 is an even numbers\n",
      "1 is an odd number\n",
      "2 is an even numbers\n",
      "3 is an odd number\n",
      "4 is an even numbers\n",
      "5 is an odd number\n",
      "6 is an even numbers\n",
      "7 is an odd number\n",
      "8 is an even numbers\n",
      "9 is an odd number\n",
      "10 is an even numbers\n",
      "11 is an odd number\n",
      "12 is an even numbers\n",
      "13 is an odd number\n",
      "14 is an even numbers\n",
      "15 is an odd number\n",
      "16 is an even numbers\n",
      "17 is an odd number\n",
      "18 is an even numbers\n"
     ]
    }
   ],
   "source": [
    "for i in range(19):\n",
    "    if i % 2 == 0:\n",
    "        print(\"{0} is an even numbers\".format(i))\n",
    "    else:\n",
    "        print(\"{0} is an odd number\".format(i))"
   ]
  },
  {
   "cell_type": "code",
   "execution_count": 74,
   "metadata": {},
   "outputs": [
    {
     "name": "stdout",
     "output_type": "stream",
     "text": [
      "[0, 1, 1, 2, 3, 5, 8, 13, 21, 34, 55]\n"
     ]
    }
   ],
   "source": [
    "# Exercise\n",
    "# Create a function that reports the Fibonacci series for n + 3 numbers\n",
    "\n",
    "def fibonacci(n):\n",
    "    # define what happens when input is 0\n",
    "    if n < 0:\n",
    "        print('Only positive numbers are allowed')\n",
    "    elif n == 0:\n",
    "        return 0\n",
    "    \n",
    "    elif n == 1 & n == 2:\n",
    "        return 1\n",
    "    \n",
    "    else:\n",
    "        return fibonacci(n-1) + fibonacci(n-2)\n",
    "    \n",
    "def fib_seq(n):\n",
    "    v = [0, 1, 1]\n",
    "    for i in range(n):\n",
    "        v.append(sum(v[-2:]))\n",
    "        \n",
    "    print(v)\n",
    "\n",
    "fib_seq(8)    \n",
    "\n",
    "\n"
   ]
  },
  {
   "cell_type": "code",
   "execution_count": 76,
   "metadata": {},
   "outputs": [
    {
     "name": "stdout",
     "output_type": "stream",
     "text": [
      "h\n",
      "l\n",
      "l\n",
      ",\n",
      " \n",
      "m\n",
      "y\n",
      " \n",
      "n\n",
      "m\n",
      " \n",
      "s\n",
      " \n",
      "m\n",
      "k\n"
     ]
    }
   ],
   "source": [
    "text = 'Hello, My name is MiKE'\n",
    "\n",
    "for i in text.casefold():\n",
    "    if i in 'aeiou':\n",
    "        continue\n",
    "    print(i)"
   ]
  },
  {
   "cell_type": "markdown",
   "metadata": {},
   "source": [
    "### While Loops"
   ]
  },
  {
   "cell_type": "code",
   "execution_count": 77,
   "metadata": {},
   "outputs": [
    {
     "name": "stdout",
     "output_type": "stream",
     "text": [
      "0\n",
      "1\n",
      "2\n",
      "3\n",
      "4\n",
      "5\n",
      "6\n",
      "7\n"
     ]
    }
   ],
   "source": [
    "# while loops \n",
    "\n",
    "toggle = True\n",
    "i = 0\n",
    "\n",
    "while toggle:\n",
    "    print(i)\n",
    "    i += 1\n",
    "    \n",
    "    if i == 8:\n",
    "        toggle = False\n",
    "    \n",
    "    "
   ]
  },
  {
   "cell_type": "code",
   "execution_count": 78,
   "metadata": {},
   "outputs": [
    {
     "name": "stdout",
     "output_type": "stream",
     "text": [
      "0\n",
      "1\n",
      "2\n",
      "3\n",
      "4\n",
      "5\n",
      "6\n",
      "7\n",
      "8\n"
     ]
    }
   ],
   "source": [
    "i = 0\n",
    "while True:\n",
    "    print(i)\n",
    "    i += 1\n",
    "    \n",
    "    if i == 9:\n",
    "        break"
   ]
  },
  {
   "cell_type": "code",
   "execution_count": 79,
   "metadata": {},
   "outputs": [
    {
     "name": "stdout",
     "output_type": "stream",
     "text": [
      "0\n",
      "1\n",
      "2\n",
      "3\n",
      "4\n",
      "5\n",
      "6\n",
      "7\n"
     ]
    }
   ],
   "source": [
    "i = 0\n",
    "while i < 8:\n",
    "    print(i)\n",
    "    i += 1"
   ]
  },
  {
   "cell_type": "code",
   "execution_count": null,
   "metadata": {},
   "outputs": [],
   "source": [
    "# for-loop: preferable when you know in advance the number of iterations \n",
    "# while-loop: prefer when you don't know in advance the number of iterations"
   ]
  },
  {
   "cell_type": "code",
   "execution_count": 83,
   "metadata": {},
   "outputs": [
    {
     "name": "stdout",
     "output_type": "stream",
     "text": [
      "1\n"
     ]
    },
    {
     "ename": "ValueError",
     "evalue": "The truth value of an array with more than one element is ambiguous. Use a.any() or a.all()",
     "output_type": "error",
     "traceback": [
      "\u001b[0;31m---------------------------------------------------------------------------\u001b[0m",
      "\u001b[0;31mValueError\u001b[0m                                Traceback (most recent call last)",
      "\u001b[1;32m/home/ziya/Documents/Computer_science/Physics_is_fun/flow_control.ipynb Cell 24\u001b[0m in \u001b[0;36m<cell line: 13>\u001b[0;34m()\u001b[0m\n\u001b[1;32m     <a href='vscode-notebook-cell:/home/ziya/Documents/Computer_science/Physics_is_fun/flow_control.ipynb#X35sZmlsZQ%3D%3D?line=13'>14</a>\u001b[0m x \u001b[39m=\u001b[39m x\u001b[39m*\u001b[39mnp\u001b[39m.\u001b[39mrandom\u001b[39m.\u001b[39muniform([\u001b[39m0\u001b[39m, \u001b[39m1\u001b[39m])\n\u001b[1;32m     <a href='vscode-notebook-cell:/home/ziya/Documents/Computer_science/Physics_is_fun/flow_control.ipynb#X35sZmlsZQ%3D%3D?line=14'>15</a>\u001b[0m \u001b[39mprint\u001b[39m(i)\n\u001b[0;32m---> <a href='vscode-notebook-cell:/home/ziya/Documents/Computer_science/Physics_is_fun/flow_control.ipynb#X35sZmlsZQ%3D%3D?line=15'>16</a>\u001b[0m \u001b[39mif\u001b[39;00m x \u001b[39m<\u001b[39m p_lambda:\n\u001b[1;32m     <a href='vscode-notebook-cell:/home/ziya/Documents/Computer_science/Physics_is_fun/flow_control.ipynb#X35sZmlsZQ%3D%3D?line=16'>17</a>\u001b[0m     \u001b[39mbreak\u001b[39;00m\n",
      "\u001b[0;31mValueError\u001b[0m: The truth value of an array with more than one element is ambiguous. Use a.any() or a.all()"
     ]
    }
   ],
   "source": [
    "# Exercise: make a Poisson-like counter\n",
    "from math import exp\n",
    "# parameter lambda. Positive number (10)\n",
    "# start at 1, multiply by random number uniform([0,1])\n",
    "# target number is smaller than exp(-lambda)\n",
    "# count the number of iteration until target < exp(-lambda)\n",
    "\n",
    "p_lambda = exp(-10) \n",
    "x = 1\n",
    "i = 0\n",
    "\n",
    "while True:\n",
    "    i += 1\n",
    "    x = x*np.random.uniform([0, 1])\n",
    "    print(i)\n",
    "    if x < p_lambda:\n",
    "        break\n",
    "    \n",
    "    "
   ]
  },
  {
   "cell_type": "code",
   "execution_count": 85,
   "metadata": {},
   "outputs": [
    {
     "data": {
      "text/plain": [
       "5"
      ]
     },
     "execution_count": 85,
     "metadata": {},
     "output_type": "execute_result"
    }
   ],
   "source": [
    "import numpy as np\n",
    "\n",
    "def poissonCounter(lam):\n",
    "    \n",
    "    # initialize some variables\n",
    "    counter, cur_val = 0, 1\n",
    "    target = np.exp(-lam)\n",
    "    \n",
    "    # run algorithm\n",
    "    # cur_val = cur_val * np.random.rand()\n",
    "    \n",
    "    while True:\n",
    "        counter += 1\n",
    "        cur_val *= np.random.rand()\n",
    "        if cur_val < target:\n",
    "            break\n",
    "    \n",
    "    # return the result\n",
    "    return counter\n",
    "\n",
    "poissonCounter(10)"
   ]
  },
  {
   "cell_type": "markdown",
   "metadata": {},
   "source": [
    "### Initializing variables"
   ]
  },
  {
   "cell_type": "code",
   "execution_count": 9,
   "metadata": {},
   "outputs": [
    {
     "name": "stdout",
     "output_type": "stream",
     "text": [
      "[0, 1, 4, 9, 16, 25, 36, 49, 64, 81]\n"
     ]
    }
   ],
   "source": [
    "# initialization\n",
    "r = [] \n",
    "\n",
    "# structure of the program\n",
    "for i in range(0, 10):\n",
    "    c = i**2\n",
    "    r.append(c)\n",
    "    \n",
    "print(r)"
   ]
  },
  {
   "cell_type": "code",
   "execution_count": 10,
   "metadata": {},
   "outputs": [
    {
     "name": "stdout",
     "output_type": "stream",
     "text": [
      "[ 0.  1.  4.  9. 16. 25. 36. 49. 64. 81.]\n"
     ]
    },
    {
     "data": {
      "text/plain": [
       "numpy.ndarray"
      ]
     },
     "execution_count": 10,
     "metadata": {},
     "output_type": "execute_result"
    }
   ],
   "source": [
    "import numpy as np\n",
    "\n",
    "r = np.zeros(10)\n",
    "\n",
    "for i in range(10):\n",
    "    r[i] = i**2\n",
    "    \n",
    "print(r)\n",
    "type(r)"
   ]
  },
  {
   "cell_type": "code",
   "execution_count": 11,
   "metadata": {},
   "outputs": [
    {
     "name": "stdout",
     "output_type": "stream",
     "text": [
      "[0.000e+00 1.000e+00 4.000e+00 9.000e+00 1.600e+01 2.500e+01 3.600e+01\n",
      " 4.900e+01 6.400e+01 8.100e+01 1.000e+02 1.210e+02 1.440e+02 1.690e+02\n",
      " 1.960e+02 2.250e+02 2.560e+02 2.890e+02 3.240e+02 3.610e+02 4.000e+02\n",
      " 4.410e+02 4.840e+02 5.290e+02 5.760e+02 6.250e+02 6.760e+02 7.290e+02\n",
      " 7.840e+02 8.410e+02 9.000e+02 9.610e+02 1.024e+03 1.089e+03 1.156e+03\n",
      " 1.225e+03 1.296e+03 1.369e+03 1.444e+03 1.521e+03 1.600e+03 1.681e+03\n",
      " 1.764e+03 1.849e+03 1.936e+03 2.025e+03 2.116e+03 2.209e+03 2.304e+03\n",
      " 2.401e+03 2.500e+03 2.601e+03 2.704e+03 2.809e+03 2.916e+03 3.025e+03\n",
      " 3.136e+03 3.249e+03 3.364e+03 3.481e+03 3.600e+03 3.721e+03 3.844e+03\n",
      " 3.969e+03 4.096e+03 4.225e+03 4.356e+03 4.489e+03 4.624e+03 4.761e+03\n",
      " 4.900e+03 5.041e+03 5.184e+03 5.329e+03 5.476e+03 5.625e+03 5.776e+03\n",
      " 5.929e+03 6.084e+03 6.241e+03 6.400e+03 6.561e+03 6.724e+03 6.889e+03\n",
      " 7.056e+03 7.225e+03 7.396e+03 7.569e+03 7.744e+03 7.921e+03 8.100e+03\n",
      " 8.281e+03 8.464e+03 8.649e+03 8.836e+03 9.025e+03 9.216e+03 9.409e+03\n",
      " 9.604e+03 9.801e+03]\n"
     ]
    }
   ],
   "source": [
    "n = 100\n",
    "\n",
    "r = np.zeros(n)\n",
    "\n",
    "for i in range(n):\n",
    "    r[i] = i**2\n",
    "    \n",
    "print(r)"
   ]
  },
  {
   "cell_type": "code",
   "execution_count": 13,
   "metadata": {},
   "outputs": [
    {
     "data": {
      "text/plain": [
       "array([5.3454, 5.3454, 5.3454, 5.3454, 5.3454, 5.3454, 5.3454, 5.3454,\n",
       "       5.3454, 5.3454])"
      ]
     },
     "execution_count": 13,
     "metadata": {},
     "output_type": "execute_result"
    }
   ],
   "source": [
    "n = 10\n",
    "r = np.full(n, 5.3454)\n",
    "\n",
    "r"
   ]
  },
  {
   "cell_type": "code",
   "execution_count": 17,
   "metadata": {},
   "outputs": [
    {
     "name": "stdout",
     "output_type": "stream",
     "text": [
      "[0, 1, 4, 9, 16, 25, 36, 49, 64, 81]\n"
     ]
    },
    {
     "data": {
      "text/plain": [
       "list"
      ]
     },
     "execution_count": 17,
     "metadata": {},
     "output_type": "execute_result"
    }
   ],
   "source": [
    "r = []\n",
    "\n",
    "for i in range(n):\n",
    "    r.append(i**2)\n",
    "    \n",
    "print(r)\n",
    "type(r)"
   ]
  },
  {
   "cell_type": "code",
   "execution_count": 18,
   "metadata": {},
   "outputs": [],
   "source": [
    "del r"
   ]
  },
  {
   "cell_type": "code",
   "execution_count": 21,
   "metadata": {},
   "outputs": [
    {
     "name": "stdout",
     "output_type": "stream",
     "text": [
      "[ 0.  1.  4.  9. 16. 25. 36. 49. 64. 81.]\n"
     ]
    }
   ],
   "source": [
    "r = np.array([])\n",
    "\n",
    "for i in range(n):\n",
    "    r = np.append(r, i**2)      # append in numpy\n",
    "    \n",
    "print(r)"
   ]
  },
  {
   "cell_type": "code",
   "execution_count": 24,
   "metadata": {},
   "outputs": [
    {
     "data": {
      "text/plain": [
       "array([[0., 0., 0., 0., 0.],\n",
       "       [0., 0., 7., 0., 0.],\n",
       "       [0., 0., 0., 0., 0.],\n",
       "       [0., 0., 0., 0., 0.]])"
      ]
     },
     "execution_count": 24,
     "metadata": {},
     "output_type": "execute_result"
    }
   ],
   "source": [
    "r = np.zeros((4, 5), float)\n",
    "r[1, 2] = 7\n",
    "r"
   ]
  },
  {
   "cell_type": "code",
   "execution_count": 43,
   "metadata": {},
   "outputs": [
    {
     "name": "stdout",
     "output_type": "stream",
     "text": [
      "[0.9817059999477351, 23.106577999897127, 0.0010985040003106405]\n"
     ]
    }
   ],
   "source": [
    "# Exercise: time all three methods !\n",
    "\n",
    "# 1) list append\n",
    "# 2) numpy append\n",
    "# 3) numpy initialization\n",
    "\n",
    "import time \n",
    "\n",
    "t = [0]*3\n",
    "N = 1000\n",
    "\n",
    "# list append \n",
    "tic = time.perf_counter()\n",
    "r = []\n",
    "\n",
    "for i in range(N):\n",
    "    r.append(i**2)\n",
    "t[0] = (time.perf_counter() - tic) * 1000\n",
    "\n",
    "# numpy append\n",
    "tic_ = time.perf_counter()\n",
    "r = np.array([])\n",
    "\n",
    "for i in range(N):\n",
    "    r = np.append(r, i**2)\n",
    "t[1] = (time.perf_counter() - tic) * 1000\n",
    "\n",
    "# numpy initialization\n",
    "tic = time.perf_counter()\n",
    "r = np.zeros(N)\n",
    "\n",
    "for i in range(N):\n",
    "    r[i] = i**2\n",
    "t[2] = (time.perf_counter() - tic)\n",
    "\n",
    "print(t)\n"
   ]
  },
  {
   "cell_type": "markdown",
   "metadata": {},
   "source": [
    "### Function error checking"
   ]
  },
  {
   "cell_type": "code",
   "execution_count": 55,
   "metadata": {},
   "outputs": [
    {
     "ename": "Exception",
     "evalue": "Input x must be a number",
     "output_type": "error",
     "traceback": [
      "\u001b[0;31m---------------------------------------------------------------------------\u001b[0m",
      "\u001b[0;31mException\u001b[0m                                 Traceback (most recent call last)",
      "\u001b[1;32m/home/ziya/Documents/Computer_science/Physics_is_fun/flow_control.ipynb Cell 37\u001b[0m in \u001b[0;36m<cell line: 10>\u001b[0;34m()\u001b[0m\n\u001b[1;32m      <a href='vscode-notebook-cell:/home/ziya/Documents/Computer_science/Physics_is_fun/flow_control.ipynb#X61sZmlsZQ%3D%3D?line=6'>7</a>\u001b[0m     z \u001b[39m=\u001b[39m x_1 \u001b[39m*\u001b[39m y\n\u001b[1;32m      <a href='vscode-notebook-cell:/home/ziya/Documents/Computer_science/Physics_is_fun/flow_control.ipynb#X61sZmlsZQ%3D%3D?line=7'>8</a>\u001b[0m     \u001b[39mreturn\u001b[39;00m z\n\u001b[0;32m---> <a href='vscode-notebook-cell:/home/ziya/Documents/Computer_science/Physics_is_fun/flow_control.ipynb#X61sZmlsZQ%3D%3D?line=9'>10</a>\u001b[0m funfun(\u001b[39m'\u001b[39;49m\u001b[39m3\u001b[39;49m\u001b[39m'\u001b[39;49m, \u001b[39m2\u001b[39;49m)\n",
      "\u001b[1;32m/home/ziya/Documents/Computer_science/Physics_is_fun/flow_control.ipynb Cell 37\u001b[0m in \u001b[0;36mfunfun\u001b[0;34m(x, y)\u001b[0m\n\u001b[1;32m      <a href='vscode-notebook-cell:/home/ziya/Documents/Computer_science/Physics_is_fun/flow_control.ipynb#X61sZmlsZQ%3D%3D?line=3'>4</a>\u001b[0m x_1 \u001b[39m=\u001b[39m \u001b[39mint\u001b[39m(x)\n\u001b[1;32m      <a href='vscode-notebook-cell:/home/ziya/Documents/Computer_science/Physics_is_fun/flow_control.ipynb#X61sZmlsZQ%3D%3D?line=4'>5</a>\u001b[0m \u001b[39mif\u001b[39;00m \u001b[39mnot\u001b[39;00m \u001b[39misinstance\u001b[39m(x_1, (\u001b[39mint\u001b[39m \u001b[39mand\u001b[39;00m \u001b[39mfloat\u001b[39m)):\n\u001b[0;32m----> <a href='vscode-notebook-cell:/home/ziya/Documents/Computer_science/Physics_is_fun/flow_control.ipynb#X61sZmlsZQ%3D%3D?line=5'>6</a>\u001b[0m     \u001b[39mraise\u001b[39;00m \u001b[39mException\u001b[39;00m(\u001b[39m'\u001b[39m\u001b[39mInput x must be a number\u001b[39m\u001b[39m'\u001b[39m)\n\u001b[1;32m      <a href='vscode-notebook-cell:/home/ziya/Documents/Computer_science/Physics_is_fun/flow_control.ipynb#X61sZmlsZQ%3D%3D?line=6'>7</a>\u001b[0m z \u001b[39m=\u001b[39m x_1 \u001b[39m*\u001b[39m y\n\u001b[1;32m      <a href='vscode-notebook-cell:/home/ziya/Documents/Computer_science/Physics_is_fun/flow_control.ipynb#X61sZmlsZQ%3D%3D?line=7'>8</a>\u001b[0m \u001b[39mreturn\u001b[39;00m z\n",
      "\u001b[0;31mException\u001b[0m: Input x must be a number"
     ]
    }
   ],
   "source": [
    "# create a function that will input 2 numbers and output their product\n",
    "def funfun(x, y):\n",
    "    # check that in puts are numeric\n",
    "    x_1 = int(x)\n",
    "    if not isinstance(x_1, (int and float)):\n",
    "        raise Exception('Input x must be a number')\n",
    "    z = x_1 * y\n",
    "    return z\n",
    "\n",
    "funfun('3', 2)"
   ]
  },
  {
   "cell_type": "code",
   "execution_count": 57,
   "metadata": {},
   "outputs": [
    {
     "data": {
      "text/plain": [
       "True"
      ]
     },
     "execution_count": 57,
     "metadata": {},
     "output_type": "execute_result"
    }
   ],
   "source": [
    "x = '4'\n",
    "x.isnumeric()"
   ]
  },
  {
   "cell_type": "code",
   "execution_count": 58,
   "metadata": {},
   "outputs": [
    {
     "data": {
      "text/plain": [
       "56.0"
      ]
     },
     "execution_count": 58,
     "metadata": {},
     "output_type": "execute_result"
    }
   ],
   "source": [
    "def funfun(x, y):\n",
    "    # check that if x is float of int\n",
    "    if not isinstance(x, (int, float)):\n",
    "        # check if its numeric or not\n",
    "        if isinstance(x, str) and x.isnumeric():\n",
    "            x = float(x)\n",
    "        else:\n",
    "            raise Exception('x must be numeric')\n",
    "        \n",
    "    z = x * y\n",
    "    return z\n",
    "\n",
    "funfun('7', 8)\n"
   ]
  },
  {
   "cell_type": "code",
   "execution_count": 62,
   "metadata": {},
   "outputs": [
    {
     "name": "stdout",
     "output_type": "stream",
     "text": [
      "Couldn't complete the mission\n"
     ]
    },
    {
     "data": {
      "text/plain": [
       "0"
      ]
     },
     "execution_count": 62,
     "metadata": {},
     "output_type": "execute_result"
    }
   ],
   "source": [
    "def lalaland(x, y):\n",
    "    \n",
    "    z = 0\n",
    "    \n",
    "    try:\n",
    "        z = x**y\n",
    "    except:\n",
    "        print(\"Couldn't complete the mission\")\n",
    "    \n",
    "    return z\n",
    "\n",
    "lalaland(2, 'hi')"
   ]
  },
  {
   "cell_type": "markdown",
   "metadata": {},
   "source": [
    "### Multiple input with zip"
   ]
  },
  {
   "cell_type": "code",
   "execution_count": 68,
   "metadata": {},
   "outputs": [
    {
     "data": {
      "text/plain": [
       "65"
      ]
     },
     "execution_count": 68,
     "metadata": {},
     "output_type": "execute_result"
    }
   ],
   "source": [
    "some_list = [3, 4, 5, 6]\n",
    "other_list = [1, 3, 4, 5]\n",
    "\n",
    "z = []\n",
    "for i in range(len(some_list)):\n",
    "    z.append(other_list[i]*some_list[i])     # here is a way of calculating dot product\n",
    "    \n",
    "sum(z)\n",
    "    \n"
   ]
  },
  {
   "cell_type": "code",
   "execution_count": 71,
   "metadata": {},
   "outputs": [
    {
     "name": "stdout",
     "output_type": "stream",
     "text": [
      "3\n",
      "12\n",
      "20\n",
      "30\n"
     ]
    }
   ],
   "source": [
    "# Group vectors together\n",
    "\n",
    "for j, i in zip(some_list, other_list):\n",
    "    print(i*j)"
   ]
  },
  {
   "cell_type": "code",
   "execution_count": 75,
   "metadata": {},
   "outputs": [
    {
     "name": "stdout",
     "output_type": "stream",
     "text": [
      "[(3, 1), (4, 3), (5, 4), (6, 5)]\n"
     ]
    }
   ],
   "source": [
    "z = zip(some_list, other_list)\n",
    "lz = list(z)\n",
    "\n",
    "print(lz)"
   ]
  },
  {
   "cell_type": "code",
   "execution_count": 79,
   "metadata": {},
   "outputs": [
    {
     "name": "stdout",
     "output_type": "stream",
     "text": [
      "2 d\n",
      "3 3\n",
      "4 f\n"
     ]
    }
   ],
   "source": [
    "a = [2, 3, 4, 5, 6, 7, 2, 3, 1]\n",
    "b = ['d', '3', 'f']\n",
    "\n",
    "for i, j in zip(a,b):       # also remember that zip is not only limited two lists\n",
    "    print(i, j)"
   ]
  },
  {
   "cell_type": "code",
   "execution_count": 81,
   "metadata": {},
   "outputs": [
    {
     "name": "stdout",
     "output_type": "stream",
     "text": [
      "{'alpha': 10, 'beta': 20, 'gamma': 40}\n",
      "{'alpha': 10, 'beta': 20, 'gamma': 40}\n"
     ]
    }
   ],
   "source": [
    "# Exercise\n",
    "\n",
    "names = ['alpha', 'beta', 'gamma']\n",
    "values = [10, 20, 40]\n",
    "\n",
    "dictionary = {}\n",
    "for i, j in zip(names, values):\n",
    "    dictionary[i] = j\n",
    "    \n",
    "# or \n",
    "D = dict(zip(names, values))\n",
    "print(D)\n",
    "    \n",
    "print(dictionary)\n",
    "    "
   ]
  },
  {
   "cell_type": "markdown",
   "metadata": {},
   "source": [
    "### Single line loops"
   ]
  },
  {
   "cell_type": "code",
   "execution_count": 90,
   "metadata": {},
   "outputs": [
    {
     "name": "stdout",
     "output_type": "stream",
     "text": [
      "This is a large number\n"
     ]
    }
   ],
   "source": [
    "import random\n",
    "\n",
    "if random.randint(1, 10) > 5: print('This is a large number') # one line if-statement\n",
    "\n",
    "# one line if-else statement\n",
    "print('This number is small') if random.randint(1, 10) < 5 else print('This is a large number')"
   ]
  },
  {
   "cell_type": "code",
   "execution_count": 91,
   "metadata": {},
   "outputs": [
    {
     "name": "stdout",
     "output_type": "stream",
     "text": [
      "0\n",
      "1\n",
      "4\n",
      "9\n",
      "16\n",
      "25\n",
      "36\n",
      "49\n",
      "64\n",
      "81\n"
     ]
    }
   ],
   "source": [
    "for i in range(10):\n",
    "    print(i**2)"
   ]
  },
  {
   "cell_type": "code",
   "execution_count": 92,
   "metadata": {},
   "outputs": [
    {
     "name": "stdout",
     "output_type": "stream",
     "text": [
      "0\n",
      "1\n",
      "4\n",
      "9\n",
      "16\n",
      "25\n",
      "36\n",
      "49\n",
      "64\n",
      "81\n"
     ]
    },
    {
     "data": {
      "text/plain": [
       "[None, None, None, None, None, None, None, None, None, None]"
      ]
     },
     "execution_count": 92,
     "metadata": {},
     "output_type": "execute_result"
    }
   ],
   "source": [
    "[print(i**2) for i in range(10)]"
   ]
  },
  {
   "cell_type": "code",
   "execution_count": 95,
   "metadata": {},
   "outputs": [
    {
     "data": {
      "text/plain": [
       "[33.55051025721682, 46.35424868893541, 61.17157287525381, 78.0]"
      ]
     },
     "execution_count": 95,
     "metadata": {},
     "output_type": "execute_result"
    }
   ],
   "source": [
    "# list comprehension\n",
    "\n",
    "n = [i**2 - i**(1/2) for i in range(10) if i > 5]\n",
    "n"
   ]
  },
  {
   "cell_type": "code",
   "execution_count": 96,
   "metadata": {},
   "outputs": [
    {
     "name": "stdout",
     "output_type": "stream",
     "text": [
      "P\n",
      "Y\n",
      "t\n",
      "h\n",
      "o\n",
      "N\n"
     ]
    }
   ],
   "source": [
    "# Exercise\n",
    "\n",
    "text = ['Promising', 'Yves', 'that', 'home', 'on', 'Nobb']\n",
    "\n",
    "for word in text:\n",
    "    print(word[0])"
   ]
  },
  {
   "cell_type": "code",
   "execution_count": 98,
   "metadata": {},
   "outputs": [
    {
     "name": "stdout",
     "output_type": "stream",
     "text": [
      "P\n",
      "Y\n",
      "t\n",
      "h\n",
      "o\n",
      "N\n"
     ]
    }
   ],
   "source": [
    "[print(word[0]) for word in text];"
   ]
  },
  {
   "cell_type": "code",
   "execution_count": 100,
   "metadata": {},
   "outputs": [
    {
     "data": {
      "text/plain": [
       "[0, 'Odd', 2, 'Odd', 4, 'Odd', 6, 'Odd', 8, 'Odd']"
      ]
     },
     "execution_count": 100,
     "metadata": {},
     "output_type": "execute_result"
    }
   ],
   "source": [
    "# convert range to list \n",
    "\n",
    "new_list = [''] * 10\n",
    "\n",
    "for i in range(10):\n",
    "    if i % 2 == 1:\n",
    "        new_list[i] = 'Odd'\n",
    "    else:\n",
    "        new_list[i] = i\n",
    "        \n",
    "new_list"
   ]
  },
  {
   "cell_type": "code",
   "execution_count": 105,
   "metadata": {},
   "outputs": [
    {
     "data": {
      "text/plain": [
       "[0, 'Odd', 2, 'Odd', 4, 'Odd', 6, 'Odd', 8, 'Odd']"
      ]
     },
     "execution_count": 105,
     "metadata": {},
     "output_type": "execute_result"
    }
   ],
   "source": [
    "new_list = ['Odd' if i%2 == 1 else i for i in range(10)]\n",
    "new_list\n"
   ]
  },
  {
   "cell_type": "code",
   "execution_count": 106,
   "metadata": {},
   "outputs": [
    {
     "name": "stdout",
     "output_type": "stream",
     "text": [
      "[-3.  -2.4 -1.8 -1.2 -0.6  0.   0.6  1.2  1.8  2.4  3. ]\n",
      "[9.   5.76 3.24 1.44 0.36 0.   0.36 1.44 3.24 5.76 9.  ]\n"
     ]
    }
   ],
   "source": [
    "# Exercise III\n",
    "import numpy as np\n",
    "\n",
    "x1 = np.linspace(-3, 3, 11)\n",
    "y1 = x1 ** 2\n",
    "\n",
    "print(x1)\n",
    "print(y1)"
   ]
  },
  {
   "cell_type": "code",
   "execution_count": 109,
   "metadata": {},
   "outputs": [
    {
     "data": {
      "text/plain": [
       "[9.0,\n",
       " 5.76,\n",
       " 3.2399999999999993,\n",
       " 1.44,\n",
       " 0.36,\n",
       " 0.0,\n",
       " 0.36,\n",
       " 1.44,\n",
       " 3.2399999999999993,\n",
       " 5.76,\n",
       " 9.0]"
      ]
     },
     "execution_count": 109,
     "metadata": {},
     "output_type": "execute_result"
    }
   ],
   "source": [
    "x2 = [i / (5/3) for i in range(-5, 6)]   # the 5/3 part is the scaling factor\n",
    "# -5 to 6 is for the 11 numbers in between\n",
    "y2 = [i**2 for i in x2]\n",
    "y2"
   ]
  },
  {
   "cell_type": "code",
   "execution_count": null,
   "metadata": {},
   "outputs": [],
   "source": []
  }
 ],
 "metadata": {
  "kernelspec": {
   "display_name": "Python 3.9.12 ('pys_projec')",
   "language": "python",
   "name": "python3"
  },
  "language_info": {
   "codemirror_mode": {
    "name": "ipython",
    "version": 3
   },
   "file_extension": ".py",
   "mimetype": "text/x-python",
   "name": "python",
   "nbconvert_exporter": "python",
   "pygments_lexer": "ipython3",
   "version": "3.9.12"
  },
  "orig_nbformat": 4,
  "vscode": {
   "interpreter": {
    "hash": "baaac5c7035a3bdb87a11f992f2cdd04f51fe9f93b571f917e153f04615e43a5"
   }
  }
 },
 "nbformat": 4,
 "nbformat_minor": 2
}

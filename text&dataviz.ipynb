{
 "cells": [
  {
   "cell_type": "code",
   "execution_count": 1,
   "metadata": {},
   "outputs": [
    {
     "name": "stdout",
     "output_type": "stream",
     "text": [
      "I would like to have 45.3 cellar doors\n"
     ]
    }
   ],
   "source": [
    "num = 45.3\n",
    "sng = 'cellar doors'\n",
    "\n",
    "print(f'I would like to have {num} {sng}')"
   ]
  },
  {
   "cell_type": "code",
   "execution_count": 2,
   "metadata": {},
   "outputs": [
    {
     "name": "stdout",
     "output_type": "stream",
     "text": [
      "I would like to have 45.3 cellar doors\n"
     ]
    }
   ],
   "source": [
    "print('I would like to have %g %s'%(num, sng))\n",
    "# i -> int, g-> float, s-> string"
   ]
  },
  {
   "cell_type": "code",
   "execution_count": 5,
   "metadata": {},
   "outputs": [
    {
     "name": "stdout",
     "output_type": "stream",
     "text": [
      "I would like to have 45.30 cellar doors\n"
     ]
    }
   ],
   "source": [
    "print('I would like to have %.2f %s'%(num, sng))\n",
    "# the .2 gives back significant decimals\n"
   ]
  },
  {
   "cell_type": "code",
   "execution_count": 6,
   "metadata": {},
   "outputs": [
    {
     "name": "stdout",
     "output_type": "stream",
     "text": [
      "I would like to have 45.3 cellar doors\n"
     ]
    }
   ],
   "source": [
    "# f-strings\n",
    "\n",
    "print(f'I would like to have {num} {sng}')"
   ]
  },
  {
   "cell_type": "code",
   "execution_count": 7,
   "metadata": {},
   "outputs": [
    {
     "name": "stdout",
     "output_type": "stream",
     "text": [
      "I would like to have 45.3 cellar doors\n"
     ]
    }
   ],
   "source": [
    "print('I would like to have {n} {s}'.format(n=num, s=sng))"
   ]
  },
  {
   "cell_type": "code",
   "execution_count": 15,
   "metadata": {},
   "outputs": [
    {
     "name": "stdout",
     "output_type": "stream",
     "text": [
      "a is the 1st letter of the alphabet.\n",
      "b is the 2nd letter of the alphabet.\n",
      "c is the 3rd letter of the alphabet\n",
      "d is the 4th letter of the alphabet\n",
      "e is the 5th letter of the alphabet\n",
      "f is the 6th letter of the alphabet\n",
      "g is the 7th letter of the alphabet\n",
      "h is the 8th letter of the alphabet\n",
      "i is the 9th letter of the alphabet\n",
      "j is the 10th letter of the alphabet\n",
      "k is the 11st letter of the alphabet.\n",
      "l is the 12nd letter of the alphabet.\n",
      "m is the 13rd letter of the alphabet\n",
      "n is the 14th letter of the alphabet\n",
      "o is the 15th letter of the alphabet\n",
      "p is the 16th letter of the alphabet\n",
      "q is the 17th letter of the alphabet\n",
      "r is the 18th letter of the alphabet\n",
      "s is the 19th letter of the alphabet\n",
      "t is the 20th letter of the alphabet\n",
      "u is the 21st letter of the alphabet.\n",
      "v is the 22nd letter of the alphabet.\n",
      "w is the 23rd letter of the alphabet\n",
      "x is the 24th letter of the alphabet\n",
      "y is the 25th letter of the alphabet\n",
      "z is the 26th letter of the alphabet\n"
     ]
    }
   ],
   "source": [
    "# Exercise\n",
    "\n",
    "alphabet = 'abcdefghijklmnopqrstuvwxyz'\n",
    "\n",
    "for count, word in enumerate(alphabet, 1):\n",
    "    if count==1 or count%10==1:\n",
    "        print('%s is the %gst letter of the alphabet.'%(word, count))\n",
    "    elif count==2 or count%10==2:\n",
    "        print('%s is the %gnd letter of the alphabet.'%(word, count))\n",
    "    elif count==3 or count%10==3:\n",
    "        print('%s is the %grd letter of the alphabet'%(word, count))\n",
    "    else:\n",
    "        print('%s is the %gth letter of the alphabet'%(word, count))"
   ]
  },
  {
   "cell_type": "code",
   "execution_count": null,
   "metadata": {},
   "outputs": [],
   "source": []
  }
 ],
 "metadata": {
  "kernelspec": {
   "display_name": "Python 3.9.12 ('physics')",
   "language": "python",
   "name": "python3"
  },
  "language_info": {
   "codemirror_mode": {
    "name": "ipython",
    "version": 3
   },
   "file_extension": ".py",
   "mimetype": "text/x-python",
   "name": "python",
   "nbconvert_exporter": "python",
   "pygments_lexer": "ipython3",
   "version": "3.9.12"
  },
  "orig_nbformat": 4,
  "vscode": {
   "interpreter": {
    "hash": "56ddd66c228633afe8c14bbba296546e2c70cad9ba80b0ef0d39b555835a2729"
   }
  }
 },
 "nbformat": 4,
 "nbformat_minor": 2
}

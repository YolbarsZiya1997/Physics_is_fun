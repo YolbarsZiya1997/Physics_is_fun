jls_extract_var = matplotlib
import jls_extract_var.pyplot as plt
